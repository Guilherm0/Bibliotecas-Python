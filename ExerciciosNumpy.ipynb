{
  "nbformat": 4,
  "nbformat_minor": 0,
  "metadata": {
    "colab": {
      "provenance": [],
      "include_colab_link": true
    },
    "kernelspec": {
      "name": "python3",
      "display_name": "Python 3"
    },
    "language_info": {
      "name": "python"
    }
  },
  "cells": [
    {
      "cell_type": "markdown",
      "metadata": {
        "id": "view-in-github",
        "colab_type": "text"
      },
      "source": [
        "<a href=\"https://colab.research.google.com/github/Guilherm0/Bibliotecas-Python/blob/main/ExerciciosNumpy.ipynb\" target=\"_parent\"><img src=\"https://colab.research.google.com/assets/colab-badge.svg\" alt=\"Open In Colab\"/></a>"
      ]
    },
    {
      "cell_type": "markdown",
      "source": [
        "Numpy\n",
        "1. Utilizando a biblioteca numpy siga as instruções abaixo:\n",
        "   1. Crie um array 6x6 preenchido com zero\n",
        "   1. Preencha o centro desse array com um array 4x4 preenchido com uns\n",
        "   1. Preencha o centro desse array com um array 2x2 preenchido com dois\n",
        "   1. Gere um segundo array 6x6 com números inteiros aleatórios entre 0 e 2.\n",
        "   1. Subtraia o primeiro array pelo segundo"
      ],
      "metadata": {
        "id": "QDc0r17Zp36j"
      }
    },
    {
      "cell_type": "markdown",
      "source": [
        "1."
      ],
      "metadata": {
        "id": "jQewSID-wGjA"
      }
    },
    {
      "cell_type": "markdown",
      "source": [
        "1.a"
      ],
      "metadata": {
        "id": "X2BE_IHGrZSW"
      }
    },
    {
      "cell_type": "code",
      "source": [
        "# !pip install numpy"
      ],
      "metadata": {
        "id": "92J8fjfUqMvs"
      },
      "execution_count": null,
      "outputs": []
    },
    {
      "cell_type": "code",
      "execution_count": null,
      "metadata": {
        "colab": {
          "base_uri": "https://localhost:8080/"
        },
        "id": "hT0lZhqWpynk",
        "outputId": "4d8b9b2c-1015-4b90-e5ce-0ee6c420f9f0"
      },
      "outputs": [
        {
          "output_type": "execute_result",
          "data": {
            "text/plain": [
              "array([[0., 0., 0., 0., 0., 0.],\n",
              "       [0., 0., 0., 0., 0., 0.],\n",
              "       [0., 0., 0., 0., 0., 0.],\n",
              "       [0., 0., 0., 0., 0., 0.],\n",
              "       [0., 0., 0., 0., 0., 0.],\n",
              "       [0., 0., 0., 0., 0., 0.]])"
            ]
          },
          "metadata": {},
          "execution_count": 7
        }
      ],
      "source": [
        "import numpy as np\n",
        "# help(np.zeros)\n",
        "array1 = np.zeros(shape=(6,6))\n",
        "array1"
      ]
    },
    {
      "cell_type": "code",
      "source": [
        "array1.ndim"
      ],
      "metadata": {
        "colab": {
          "base_uri": "https://localhost:8080/"
        },
        "id": "GqdfVfmquWMi",
        "outputId": "74ad6b87-5f33-4168-8afd-13a68a265f0d"
      },
      "execution_count": null,
      "outputs": [
        {
          "output_type": "execute_result",
          "data": {
            "text/plain": [
              "2"
            ]
          },
          "metadata": {},
          "execution_count": 8
        }
      ]
    },
    {
      "cell_type": "code",
      "source": [
        "array1.size"
      ],
      "metadata": {
        "colab": {
          "base_uri": "https://localhost:8080/"
        },
        "id": "71OPJleNuWdB",
        "outputId": "b7c727ec-1f5a-47bb-aff6-abb5f7e99283"
      },
      "execution_count": null,
      "outputs": [
        {
          "output_type": "execute_result",
          "data": {
            "text/plain": [
              "36"
            ]
          },
          "metadata": {},
          "execution_count": 9
        }
      ]
    },
    {
      "cell_type": "code",
      "source": [
        "array1.shape"
      ],
      "metadata": {
        "colab": {
          "base_uri": "https://localhost:8080/"
        },
        "id": "bmp3_DXBqGy0",
        "outputId": "e83cdd39-b43f-4ae5-db13-6884f0e89fba"
      },
      "execution_count": null,
      "outputs": [
        {
          "output_type": "execute_result",
          "data": {
            "text/plain": [
              "(6, 6)"
            ]
          },
          "metadata": {},
          "execution_count": 10
        }
      ]
    },
    {
      "cell_type": "code",
      "source": [
        "array1.dtype"
      ],
      "metadata": {
        "colab": {
          "base_uri": "https://localhost:8080/"
        },
        "id": "QorcAtpQqZwA",
        "outputId": "e1981be5-cf98-4fbf-fb30-847247d20fc1"
      },
      "execution_count": null,
      "outputs": [
        {
          "output_type": "execute_result",
          "data": {
            "text/plain": [
              "dtype('float64')"
            ]
          },
          "metadata": {},
          "execution_count": 11
        }
      ]
    },
    {
      "cell_type": "markdown",
      "source": [
        "1.b"
      ],
      "metadata": {
        "id": "ix6AOKmXrXtm"
      }
    },
    {
      "cell_type": "code",
      "source": [
        "# array[1]\n",
        "# array1[1, 1]\n",
        "# array1[1:4]\n",
        "# array1[1:5]\n",
        "# array1[1:-1]\n",
        "# array1[1:-1, 1:-1]\n",
        "# help(np.ones)\n",
        "array1[1:-1, 1:-1] = np.ones(shape=(4,4))\n",
        "array1\n",
        "# não dá pra fazer assim com listas sem utilizar for"
      ],
      "metadata": {
        "colab": {
          "base_uri": "https://localhost:8080/"
        },
        "id": "jLGhT6JRqdPm",
        "outputId": "0c58d0a2-e429-4f42-afba-bca7c53ea75f"
      },
      "execution_count": null,
      "outputs": [
        {
          "output_type": "execute_result",
          "data": {
            "text/plain": [
              "array([[0., 0., 0., 0., 0., 0.],\n",
              "       [0., 1., 1., 1., 1., 0.],\n",
              "       [0., 1., 1., 1., 1., 0.],\n",
              "       [0., 1., 1., 1., 1., 0.],\n",
              "       [0., 1., 1., 1., 1., 0.],\n",
              "       [0., 0., 0., 0., 0., 0.]])"
            ]
          },
          "metadata": {},
          "execution_count": 12
        }
      ]
    },
    {
      "cell_type": "markdown",
      "source": [
        "1.c"
      ],
      "metadata": {
        "id": "r1MDjXB0tyl0"
      }
    },
    {
      "cell_type": "code",
      "source": [
        "# np.array([\n",
        "#   [2,2],\n",
        "#   [2,2]\n",
        "# ])\n",
        "# np.zeros(shape=(2,2)) + 2\n",
        "# np.ones(shape=(2,2)) * 2\n",
        "# Não dá pra fazer assim com listas\n",
        "# help(np.full)\n",
        "array1[2:-2, 2:-2] = np.full(shape=(2,2), fill_value=2)\n",
        "array1"
      ],
      "metadata": {
        "colab": {
          "base_uri": "https://localhost:8080/"
        },
        "id": "ZRS0zKVKqolQ",
        "outputId": "8203be46-e959-4d67-be76-117fb60fa070"
      },
      "execution_count": null,
      "outputs": [
        {
          "output_type": "execute_result",
          "data": {
            "text/plain": [
              "array([[0., 0., 0., 0., 0., 0.],\n",
              "       [0., 1., 1., 1., 1., 0.],\n",
              "       [0., 1., 2., 2., 1., 0.],\n",
              "       [0., 1., 2., 2., 1., 0.],\n",
              "       [0., 1., 1., 1., 1., 0.],\n",
              "       [0., 0., 0., 0., 0., 0.]])"
            ]
          },
          "metadata": {},
          "execution_count": 13
        }
      ]
    },
    {
      "cell_type": "markdown",
      "source": [
        "1.d"
      ],
      "metadata": {
        "id": "T9ZvCfVat14D"
      }
    },
    {
      "cell_type": "code",
      "source": [
        "# numpy random\n",
        "# https://numpy.org/doc/1.16/reference/routines.random.html\n",
        "# help(np.random.randint)\n",
        "# np.random.randint(low=0, high=3, size=(6,6))\n",
        "# numpy set seed\n",
        "# https://docs.scipy.org/doc/numpy-1.15.1/reference/generated/numpy.random.seed.html\n",
        "np.random.seed(0)\n",
        "array2 = np.random.randint(low=0, high=3, size=(6,6))\n",
        "array2"
      ],
      "metadata": {
        "colab": {
          "base_uri": "https://localhost:8080/"
        },
        "id": "8k6PIYaxsF0m",
        "outputId": "3c098d69-c7d7-46ab-bd49-d84b6967c574"
      },
      "execution_count": null,
      "outputs": [
        {
          "output_type": "execute_result",
          "data": {
            "text/plain": [
              "array([[0, 1, 0, 1, 1, 2],\n",
              "       [0, 2, 0, 0, 0, 2],\n",
              "       [1, 2, 2, 0, 1, 1],\n",
              "       [1, 1, 0, 1, 0, 0],\n",
              "       [1, 2, 0, 2, 0, 1],\n",
              "       [1, 2, 0, 1, 1, 1]])"
            ]
          },
          "metadata": {},
          "execution_count": 14
        }
      ]
    },
    {
      "cell_type": "markdown",
      "source": [
        "1.e"
      ],
      "metadata": {
        "id": "INwKMziov_t6"
      }
    },
    {
      "cell_type": "code",
      "source": [
        "array1-array2"
      ],
      "metadata": {
        "colab": {
          "base_uri": "https://localhost:8080/"
        },
        "id": "1_YJEwdQtY_9",
        "outputId": "636ccdda-3dfc-4c2d-af97-d78f775bf4a9"
      },
      "execution_count": null,
      "outputs": [
        {
          "output_type": "execute_result",
          "data": {
            "text/plain": [
              "array([[ 0., -1.,  0., -1., -1., -2.],\n",
              "       [ 0., -1.,  1.,  1.,  1., -2.],\n",
              "       [-1., -1.,  0.,  2.,  0., -1.],\n",
              "       [-1.,  0.,  2.,  1.,  1.,  0.],\n",
              "       [-1., -1.,  1., -1.,  1., -1.],\n",
              "       [-1., -2.,  0., -1., -1., -1.]])"
            ]
          },
          "metadata": {},
          "execution_count": 15
        }
      ]
    },
    {
      "cell_type": "markdown",
      "source": [
        "\n",
        "2. Crie um array de duas dimensões, no formato 9x9, com números de 0 a 80 ordenados de modo crescente e selecione:\n",
        "   1. Os números ímpares\n",
        "   1. Os números pares\n",
        "   1. Os múltiplos de sete\n",
        "   1. Os múltiplos de 10\n",
        "   1. Os números 32,33,42,43"
      ],
      "metadata": {
        "id": "xnF6dzzfwQOy"
      }
    },
    {
      "cell_type": "markdown",
      "source": [
        "2"
      ],
      "metadata": {
        "id": "AvG-i579wE8f"
      }
    },
    {
      "cell_type": "markdown",
      "source": [
        "2.a e b"
      ],
      "metadata": {
        "id": "gyfCoOe3xzDk"
      }
    },
    {
      "cell_type": "code",
      "source": [
        "# help(np.arange)\n",
        "# np.arange(start=0, stop=81, step=1)\n",
        "array = np.arange(start=0, stop=81, step=1).reshape(9,9)\n",
        "# np.arange(start=0, stop=81, step=1).reshape(9,-1)\n",
        "array"
      ],
      "metadata": {
        "colab": {
          "base_uri": "https://localhost:8080/"
        },
        "id": "Moq7jTguwBkT",
        "outputId": "ca0cd415-d843-4d2e-c451-eccec886fb5f"
      },
      "execution_count": null,
      "outputs": [
        {
          "output_type": "execute_result",
          "data": {
            "text/plain": [
              "array([[ 0,  1,  2,  3,  4,  5,  6,  7,  8],\n",
              "       [ 9, 10, 11, 12, 13, 14, 15, 16, 17],\n",
              "       [18, 19, 20, 21, 22, 23, 24, 25, 26],\n",
              "       [27, 28, 29, 30, 31, 32, 33, 34, 35],\n",
              "       [36, 37, 38, 39, 40, 41, 42, 43, 44],\n",
              "       [45, 46, 47, 48, 49, 50, 51, 52, 53],\n",
              "       [54, 55, 56, 57, 58, 59, 60, 61, 62],\n",
              "       [63, 64, 65, 66, 67, 68, 69, 70, 71],\n",
              "       [72, 73, 74, 75, 76, 77, 78, 79, 80]])"
            ]
          },
          "metadata": {},
          "execution_count": 16
        }
      ]
    },
    {
      "cell_type": "code",
      "source": [
        "# array % 2\n",
        "# array % 2 == 1\n",
        "mask_impar = array % 2 == 1 # Mask\n",
        "# mask_impar\n",
        "array[mask_impar]"
      ],
      "metadata": {
        "colab": {
          "base_uri": "https://localhost:8080/"
        },
        "id": "L9WoPQ27xElU",
        "outputId": "f2a3eafe-47e8-4c06-bd53-59eae2d3a2c7"
      },
      "execution_count": null,
      "outputs": [
        {
          "output_type": "execute_result",
          "data": {
            "text/plain": [
              "array([ 1,  3,  5,  7,  9, 11, 13, 15, 17, 19, 21, 23, 25, 27, 29, 31, 33,\n",
              "       35, 37, 39, 41, 43, 45, 47, 49, 51, 53, 55, 57, 59, 61, 63, 65, 67,\n",
              "       69, 71, 73, 75, 77, 79])"
            ]
          },
          "metadata": {},
          "execution_count": 17
        }
      ]
    },
    {
      "cell_type": "markdown",
      "source": [
        "2.b"
      ],
      "metadata": {
        "id": "_EqYfn6CyC-Z"
      }
    },
    {
      "cell_type": "code",
      "source": [
        "# array[not mask_impar]\n",
        "# array[~mask_impar]\n",
        "# array % 2 == 0\n",
        "mask_par = array % 2 == 0 # Mask\n",
        "array[mask_par]"
      ],
      "metadata": {
        "colab": {
          "base_uri": "https://localhost:8080/"
        },
        "id": "NxqMif0VyBTV",
        "outputId": "92a80de8-b893-485d-c6cb-af274f6d0e4d"
      },
      "execution_count": null,
      "outputs": [
        {
          "output_type": "execute_result",
          "data": {
            "text/plain": [
              "array([ 0,  2,  4,  6,  8, 10, 12, 14, 16, 18, 20, 22, 24, 26, 28, 30, 32,\n",
              "       34, 36, 38, 40, 42, 44, 46, 48, 50, 52, 54, 56, 58, 60, 62, 64, 66,\n",
              "       68, 70, 72, 74, 76, 78, 80])"
            ]
          },
          "metadata": {},
          "execution_count": 18
        }
      ]
    },
    {
      "cell_type": "markdown",
      "source": [
        "2.c"
      ],
      "metadata": {
        "id": "giqejT30zLmf"
      }
    },
    {
      "cell_type": "code",
      "source": [
        "array\n",
        "# array % 7\n",
        "# array % 7 == 0\n",
        "mult_sete = array % 7 == 0\n",
        "array[mult_sete]\n",
        "# multi_sete = [0, 7, 14, 21, 28, 35, 42, 49, 56, 63, 70, 77]\n",
        "# numpy check array values in list\n",
        "# https://numpy.org/doc/stable/reference/generated/numpy.isin.html\n",
        "# mask_sete = np.isin(array, multi_sete)\n",
        "# array[mask_sete]\n",
        "# list(range(0, 80, 7))\n",
        "# array[np.isin(array, range(0, 80, 7))]"
      ],
      "metadata": {
        "colab": {
          "base_uri": "https://localhost:8080/"
        },
        "id": "jT0fDnQAzK8x",
        "outputId": "20c8a76d-a045-4399-9d70-7782339163b9"
      },
      "execution_count": null,
      "outputs": [
        {
          "output_type": "execute_result",
          "data": {
            "text/plain": [
              "array([ 0,  7, 14, 21, 28, 35, 42, 49, 56, 63, 70, 77])"
            ]
          },
          "metadata": {},
          "execution_count": 19
        }
      ]
    },
    {
      "cell_type": "markdown",
      "source": [
        "2.d"
      ],
      "metadata": {
        "id": "s0LGRFE-06uw"
      }
    },
    {
      "cell_type": "code",
      "source": [
        "# numpy get matrix diagonal\n",
        "# https://numpy.org/doc/stable/reference/generated/numpy.diagonal.html\n",
        "# array.diagonal()\n",
        "# np.diag(array)\n",
        "# array[array %10 == 0]\n",
        "# array.shape\n",
        "# for i in range(array.shape[0]):\n",
        "#   print(array[i,i])\n",
        "# array.ravel()[::10]"
      ],
      "metadata": {
        "id": "Wx86uMmC0_Mu"
      },
      "execution_count": null,
      "outputs": []
    },
    {
      "cell_type": "markdown",
      "source": [
        "2.e"
      ],
      "metadata": {
        "id": "xO6QciGA2rJ8"
      }
    },
    {
      "cell_type": "code",
      "source": [
        "array"
      ],
      "metadata": {
        "colab": {
          "base_uri": "https://localhost:8080/"
        },
        "id": "Zf3fePHF3cpV",
        "outputId": "d13ad59e-745a-4e89-9f55-36b0eb964744"
      },
      "execution_count": null,
      "outputs": [
        {
          "output_type": "execute_result",
          "data": {
            "text/plain": [
              "array([[ 0,  1,  2,  3,  4,  5,  6,  7,  8],\n",
              "       [ 9, 10, 11, 12, 13, 14, 15, 16, 17],\n",
              "       [18, 19, 20, 21, 22, 23, 24, 25, 26],\n",
              "       [27, 28, 29, 30, 31, 32, 33, 34, 35],\n",
              "       [36, 37, 38, 39, 40, 41, 42, 43, 44],\n",
              "       [45, 46, 47, 48, 49, 50, 51, 52, 53],\n",
              "       [54, 55, 56, 57, 58, 59, 60, 61, 62],\n",
              "       [63, 64, 65, 66, 67, 68, 69, 70, 71],\n",
              "       [72, 73, 74, 75, 76, 77, 78, 79, 80]])"
            ]
          },
          "metadata": {},
          "execution_count": 21
        }
      ]
    },
    {
      "cell_type": "code",
      "source": [
        "# array.ravel()[[32,33,42,43]]\n",
        "# array[np.isin(array, [32,33,42,43])]\n",
        "array[[3,3,4,4],[5,6,6,7]]"
      ],
      "metadata": {
        "colab": {
          "base_uri": "https://localhost:8080/"
        },
        "id": "ZbxHky5o2sNS",
        "outputId": "48908de8-4187-4eca-c5e0-09208a5767d6"
      },
      "execution_count": null,
      "outputs": [
        {
          "output_type": "execute_result",
          "data": {
            "text/plain": [
              "array([32, 33, 42, 43])"
            ]
          },
          "metadata": {},
          "execution_count": 22
        }
      ]
    },
    {
      "cell_type": "markdown",
      "source": [
        "\n",
        "3. Crie um array com três dimensões, onde a primeira dimensão são os dias da semana (seg a dom), a segunda dimensão são as semanas do mês (considere apenas 4 para todos os meses), e a terceira são os meses do ano (Jan a dezembro).\n",
        "   1. Marque os finais de semana com a letra W\n",
        "   1. Marque o começo do mês com a letra S\n",
        "   1. Marque o final do mês com a letra E\n",
        "   1. Marque os demais dias com a letra D\n",
        "   1. Marque os feriados nacionais com a letra F\n",
        "      - 01/01 - Ano novo\n",
        "      - 15/04 - Paixão de Cristo\n",
        "      - 21/04 - Tiradentes\n",
        "      - 01/05 - Dia do Trabalho\n",
        "      - 07/09 - Independência do Brasil\n",
        "      - 12/10 - Nossa Senhora Aparecida\n",
        "      - 02/11 - Finados\n",
        "      - 15/11 - Proclamação da República\n",
        "      - 25/12 - Natal"
      ],
      "metadata": {
        "id": "7IbwVb7mwTPq"
      }
    },
    {
      "cell_type": "code",
      "source": [
        "# numpy repeat array\n",
        "# https://numpy.org/doc/stable/reference/generated/numpy.tile.html\n",
        "month = np.arange(1,29).reshape(4,7)\n",
        "# month\n",
        "# np.tile(month, (12,1,1)).shape\n",
        "calendar = np.tile(month, (12,1,1))\n",
        "calendar"
      ],
      "metadata": {
        "colab": {
          "base_uri": "https://localhost:8080/"
        },
        "id": "O2cUNlvgwUCj",
        "outputId": "86fe177c-52c7-447d-af4f-3931b9746ac3"
      },
      "execution_count": null,
      "outputs": [
        {
          "output_type": "execute_result",
          "data": {
            "text/plain": [
              "array([[[ 1,  2,  3,  4,  5,  6,  7],\n",
              "        [ 8,  9, 10, 11, 12, 13, 14],\n",
              "        [15, 16, 17, 18, 19, 20, 21],\n",
              "        [22, 23, 24, 25, 26, 27, 28]],\n",
              "\n",
              "       [[ 1,  2,  3,  4,  5,  6,  7],\n",
              "        [ 8,  9, 10, 11, 12, 13, 14],\n",
              "        [15, 16, 17, 18, 19, 20, 21],\n",
              "        [22, 23, 24, 25, 26, 27, 28]],\n",
              "\n",
              "       [[ 1,  2,  3,  4,  5,  6,  7],\n",
              "        [ 8,  9, 10, 11, 12, 13, 14],\n",
              "        [15, 16, 17, 18, 19, 20, 21],\n",
              "        [22, 23, 24, 25, 26, 27, 28]],\n",
              "\n",
              "       [[ 1,  2,  3,  4,  5,  6,  7],\n",
              "        [ 8,  9, 10, 11, 12, 13, 14],\n",
              "        [15, 16, 17, 18, 19, 20, 21],\n",
              "        [22, 23, 24, 25, 26, 27, 28]],\n",
              "\n",
              "       [[ 1,  2,  3,  4,  5,  6,  7],\n",
              "        [ 8,  9, 10, 11, 12, 13, 14],\n",
              "        [15, 16, 17, 18, 19, 20, 21],\n",
              "        [22, 23, 24, 25, 26, 27, 28]],\n",
              "\n",
              "       [[ 1,  2,  3,  4,  5,  6,  7],\n",
              "        [ 8,  9, 10, 11, 12, 13, 14],\n",
              "        [15, 16, 17, 18, 19, 20, 21],\n",
              "        [22, 23, 24, 25, 26, 27, 28]],\n",
              "\n",
              "       [[ 1,  2,  3,  4,  5,  6,  7],\n",
              "        [ 8,  9, 10, 11, 12, 13, 14],\n",
              "        [15, 16, 17, 18, 19, 20, 21],\n",
              "        [22, 23, 24, 25, 26, 27, 28]],\n",
              "\n",
              "       [[ 1,  2,  3,  4,  5,  6,  7],\n",
              "        [ 8,  9, 10, 11, 12, 13, 14],\n",
              "        [15, 16, 17, 18, 19, 20, 21],\n",
              "        [22, 23, 24, 25, 26, 27, 28]],\n",
              "\n",
              "       [[ 1,  2,  3,  4,  5,  6,  7],\n",
              "        [ 8,  9, 10, 11, 12, 13, 14],\n",
              "        [15, 16, 17, 18, 19, 20, 21],\n",
              "        [22, 23, 24, 25, 26, 27, 28]],\n",
              "\n",
              "       [[ 1,  2,  3,  4,  5,  6,  7],\n",
              "        [ 8,  9, 10, 11, 12, 13, 14],\n",
              "        [15, 16, 17, 18, 19, 20, 21],\n",
              "        [22, 23, 24, 25, 26, 27, 28]],\n",
              "\n",
              "       [[ 1,  2,  3,  4,  5,  6,  7],\n",
              "        [ 8,  9, 10, 11, 12, 13, 14],\n",
              "        [15, 16, 17, 18, 19, 20, 21],\n",
              "        [22, 23, 24, 25, 26, 27, 28]],\n",
              "\n",
              "       [[ 1,  2,  3,  4,  5,  6,  7],\n",
              "        [ 8,  9, 10, 11, 12, 13, 14],\n",
              "        [15, 16, 17, 18, 19, 20, 21],\n",
              "        [22, 23, 24, 25, 26, 27, 28]]])"
            ]
          },
          "metadata": {},
          "execution_count": 23
        }
      ]
    },
    {
      "cell_type": "markdown",
      "source": [
        "3.a"
      ],
      "metadata": {
        "id": "9-WEcxcG7bfg"
      }
    },
    {
      "cell_type": "code",
      "source": [
        "# calendar[:,:, 5:]\n",
        "# calendar[:,:, 5:] = 'W'\n",
        "calendar = calendar.astype(str)\n",
        "calendar[:,:, 5:] = 'W'\n",
        "calendar\n",
        "# Vai ter que utilizar muito for pra fazer isso em lista"
      ],
      "metadata": {
        "colab": {
          "base_uri": "https://localhost:8080/"
        },
        "id": "5_PoqXxE4H8v",
        "outputId": "2aab3fa7-bf57-45c0-873f-57541f4c532f"
      },
      "execution_count": null,
      "outputs": [
        {
          "output_type": "execute_result",
          "data": {
            "text/plain": [
              "array([[['1', '2', '3', '4', '5', 'W', 'W'],\n",
              "        ['8', '9', '10', '11', '12', 'W', 'W'],\n",
              "        ['15', '16', '17', '18', '19', 'W', 'W'],\n",
              "        ['22', '23', '24', '25', '26', 'W', 'W']],\n",
              "\n",
              "       [['1', '2', '3', '4', '5', 'W', 'W'],\n",
              "        ['8', '9', '10', '11', '12', 'W', 'W'],\n",
              "        ['15', '16', '17', '18', '19', 'W', 'W'],\n",
              "        ['22', '23', '24', '25', '26', 'W', 'W']],\n",
              "\n",
              "       [['1', '2', '3', '4', '5', 'W', 'W'],\n",
              "        ['8', '9', '10', '11', '12', 'W', 'W'],\n",
              "        ['15', '16', '17', '18', '19', 'W', 'W'],\n",
              "        ['22', '23', '24', '25', '26', 'W', 'W']],\n",
              "\n",
              "       [['1', '2', '3', '4', '5', 'W', 'W'],\n",
              "        ['8', '9', '10', '11', '12', 'W', 'W'],\n",
              "        ['15', '16', '17', '18', '19', 'W', 'W'],\n",
              "        ['22', '23', '24', '25', '26', 'W', 'W']],\n",
              "\n",
              "       [['1', '2', '3', '4', '5', 'W', 'W'],\n",
              "        ['8', '9', '10', '11', '12', 'W', 'W'],\n",
              "        ['15', '16', '17', '18', '19', 'W', 'W'],\n",
              "        ['22', '23', '24', '25', '26', 'W', 'W']],\n",
              "\n",
              "       [['1', '2', '3', '4', '5', 'W', 'W'],\n",
              "        ['8', '9', '10', '11', '12', 'W', 'W'],\n",
              "        ['15', '16', '17', '18', '19', 'W', 'W'],\n",
              "        ['22', '23', '24', '25', '26', 'W', 'W']],\n",
              "\n",
              "       [['1', '2', '3', '4', '5', 'W', 'W'],\n",
              "        ['8', '9', '10', '11', '12', 'W', 'W'],\n",
              "        ['15', '16', '17', '18', '19', 'W', 'W'],\n",
              "        ['22', '23', '24', '25', '26', 'W', 'W']],\n",
              "\n",
              "       [['1', '2', '3', '4', '5', 'W', 'W'],\n",
              "        ['8', '9', '10', '11', '12', 'W', 'W'],\n",
              "        ['15', '16', '17', '18', '19', 'W', 'W'],\n",
              "        ['22', '23', '24', '25', '26', 'W', 'W']],\n",
              "\n",
              "       [['1', '2', '3', '4', '5', 'W', 'W'],\n",
              "        ['8', '9', '10', '11', '12', 'W', 'W'],\n",
              "        ['15', '16', '17', '18', '19', 'W', 'W'],\n",
              "        ['22', '23', '24', '25', '26', 'W', 'W']],\n",
              "\n",
              "       [['1', '2', '3', '4', '5', 'W', 'W'],\n",
              "        ['8', '9', '10', '11', '12', 'W', 'W'],\n",
              "        ['15', '16', '17', '18', '19', 'W', 'W'],\n",
              "        ['22', '23', '24', '25', '26', 'W', 'W']],\n",
              "\n",
              "       [['1', '2', '3', '4', '5', 'W', 'W'],\n",
              "        ['8', '9', '10', '11', '12', 'W', 'W'],\n",
              "        ['15', '16', '17', '18', '19', 'W', 'W'],\n",
              "        ['22', '23', '24', '25', '26', 'W', 'W']],\n",
              "\n",
              "       [['1', '2', '3', '4', '5', 'W', 'W'],\n",
              "        ['8', '9', '10', '11', '12', 'W', 'W'],\n",
              "        ['15', '16', '17', '18', '19', 'W', 'W'],\n",
              "        ['22', '23', '24', '25', '26', 'W', 'W']]], dtype='<U21')"
            ]
          },
          "metadata": {},
          "execution_count": 24
        }
      ]
    },
    {
      "cell_type": "markdown",
      "source": [
        "3.b"
      ],
      "metadata": {
        "id": "s07hIS6g77mE"
      }
    },
    {
      "cell_type": "code",
      "source": [
        "calendar[:, 0, 0]\n",
        "calendar[:, 0, 0] = 'S'\n",
        "calendar"
      ],
      "metadata": {
        "colab": {
          "base_uri": "https://localhost:8080/"
        },
        "id": "jIZ5jlv57h0k",
        "outputId": "c12ed5ba-4066-48ef-fc5c-4d5a9028bb99"
      },
      "execution_count": null,
      "outputs": [
        {
          "output_type": "execute_result",
          "data": {
            "text/plain": [
              "array([[['S', '2', '3', '4', '5', 'W', 'W'],\n",
              "        ['8', '9', '10', '11', '12', 'W', 'W'],\n",
              "        ['15', '16', '17', '18', '19', 'W', 'W'],\n",
              "        ['22', '23', '24', '25', '26', 'W', 'W']],\n",
              "\n",
              "       [['S', '2', '3', '4', '5', 'W', 'W'],\n",
              "        ['8', '9', '10', '11', '12', 'W', 'W'],\n",
              "        ['15', '16', '17', '18', '19', 'W', 'W'],\n",
              "        ['22', '23', '24', '25', '26', 'W', 'W']],\n",
              "\n",
              "       [['S', '2', '3', '4', '5', 'W', 'W'],\n",
              "        ['8', '9', '10', '11', '12', 'W', 'W'],\n",
              "        ['15', '16', '17', '18', '19', 'W', 'W'],\n",
              "        ['22', '23', '24', '25', '26', 'W', 'W']],\n",
              "\n",
              "       [['S', '2', '3', '4', '5', 'W', 'W'],\n",
              "        ['8', '9', '10', '11', '12', 'W', 'W'],\n",
              "        ['15', '16', '17', '18', '19', 'W', 'W'],\n",
              "        ['22', '23', '24', '25', '26', 'W', 'W']],\n",
              "\n",
              "       [['S', '2', '3', '4', '5', 'W', 'W'],\n",
              "        ['8', '9', '10', '11', '12', 'W', 'W'],\n",
              "        ['15', '16', '17', '18', '19', 'W', 'W'],\n",
              "        ['22', '23', '24', '25', '26', 'W', 'W']],\n",
              "\n",
              "       [['S', '2', '3', '4', '5', 'W', 'W'],\n",
              "        ['8', '9', '10', '11', '12', 'W', 'W'],\n",
              "        ['15', '16', '17', '18', '19', 'W', 'W'],\n",
              "        ['22', '23', '24', '25', '26', 'W', 'W']],\n",
              "\n",
              "       [['S', '2', '3', '4', '5', 'W', 'W'],\n",
              "        ['8', '9', '10', '11', '12', 'W', 'W'],\n",
              "        ['15', '16', '17', '18', '19', 'W', 'W'],\n",
              "        ['22', '23', '24', '25', '26', 'W', 'W']],\n",
              "\n",
              "       [['S', '2', '3', '4', '5', 'W', 'W'],\n",
              "        ['8', '9', '10', '11', '12', 'W', 'W'],\n",
              "        ['15', '16', '17', '18', '19', 'W', 'W'],\n",
              "        ['22', '23', '24', '25', '26', 'W', 'W']],\n",
              "\n",
              "       [['S', '2', '3', '4', '5', 'W', 'W'],\n",
              "        ['8', '9', '10', '11', '12', 'W', 'W'],\n",
              "        ['15', '16', '17', '18', '19', 'W', 'W'],\n",
              "        ['22', '23', '24', '25', '26', 'W', 'W']],\n",
              "\n",
              "       [['S', '2', '3', '4', '5', 'W', 'W'],\n",
              "        ['8', '9', '10', '11', '12', 'W', 'W'],\n",
              "        ['15', '16', '17', '18', '19', 'W', 'W'],\n",
              "        ['22', '23', '24', '25', '26', 'W', 'W']],\n",
              "\n",
              "       [['S', '2', '3', '4', '5', 'W', 'W'],\n",
              "        ['8', '9', '10', '11', '12', 'W', 'W'],\n",
              "        ['15', '16', '17', '18', '19', 'W', 'W'],\n",
              "        ['22', '23', '24', '25', '26', 'W', 'W']],\n",
              "\n",
              "       [['S', '2', '3', '4', '5', 'W', 'W'],\n",
              "        ['8', '9', '10', '11', '12', 'W', 'W'],\n",
              "        ['15', '16', '17', '18', '19', 'W', 'W'],\n",
              "        ['22', '23', '24', '25', '26', 'W', 'W']]], dtype='<U21')"
            ]
          },
          "metadata": {},
          "execution_count": 25
        }
      ]
    },
    {
      "cell_type": "markdown",
      "source": [
        "3.c"
      ],
      "metadata": {
        "id": "62AdhKjY8Lip"
      }
    },
    {
      "cell_type": "code",
      "source": [
        "# calendar[:, 3, 6]\n",
        "calendar[:, -1, -1]\n",
        "calendar[:, -1, -1] = 'E'\n",
        "calendar"
      ],
      "metadata": {
        "colab": {
          "base_uri": "https://localhost:8080/"
        },
        "id": "JafhgI3_8AAE",
        "outputId": "76f17bfc-6346-44b7-a472-af728b6ccb6b"
      },
      "execution_count": null,
      "outputs": [
        {
          "output_type": "execute_result",
          "data": {
            "text/plain": [
              "array([[['S', '2', '3', '4', '5', 'W', 'W'],\n",
              "        ['8', '9', '10', '11', '12', 'W', 'W'],\n",
              "        ['15', '16', '17', '18', '19', 'W', 'W'],\n",
              "        ['22', '23', '24', '25', '26', 'W', 'E']],\n",
              "\n",
              "       [['S', '2', '3', '4', '5', 'W', 'W'],\n",
              "        ['8', '9', '10', '11', '12', 'W', 'W'],\n",
              "        ['15', '16', '17', '18', '19', 'W', 'W'],\n",
              "        ['22', '23', '24', '25', '26', 'W', 'E']],\n",
              "\n",
              "       [['S', '2', '3', '4', '5', 'W', 'W'],\n",
              "        ['8', '9', '10', '11', '12', 'W', 'W'],\n",
              "        ['15', '16', '17', '18', '19', 'W', 'W'],\n",
              "        ['22', '23', '24', '25', '26', 'W', 'E']],\n",
              "\n",
              "       [['S', '2', '3', '4', '5', 'W', 'W'],\n",
              "        ['8', '9', '10', '11', '12', 'W', 'W'],\n",
              "        ['15', '16', '17', '18', '19', 'W', 'W'],\n",
              "        ['22', '23', '24', '25', '26', 'W', 'E']],\n",
              "\n",
              "       [['S', '2', '3', '4', '5', 'W', 'W'],\n",
              "        ['8', '9', '10', '11', '12', 'W', 'W'],\n",
              "        ['15', '16', '17', '18', '19', 'W', 'W'],\n",
              "        ['22', '23', '24', '25', '26', 'W', 'E']],\n",
              "\n",
              "       [['S', '2', '3', '4', '5', 'W', 'W'],\n",
              "        ['8', '9', '10', '11', '12', 'W', 'W'],\n",
              "        ['15', '16', '17', '18', '19', 'W', 'W'],\n",
              "        ['22', '23', '24', '25', '26', 'W', 'E']],\n",
              "\n",
              "       [['S', '2', '3', '4', '5', 'W', 'W'],\n",
              "        ['8', '9', '10', '11', '12', 'W', 'W'],\n",
              "        ['15', '16', '17', '18', '19', 'W', 'W'],\n",
              "        ['22', '23', '24', '25', '26', 'W', 'E']],\n",
              "\n",
              "       [['S', '2', '3', '4', '5', 'W', 'W'],\n",
              "        ['8', '9', '10', '11', '12', 'W', 'W'],\n",
              "        ['15', '16', '17', '18', '19', 'W', 'W'],\n",
              "        ['22', '23', '24', '25', '26', 'W', 'E']],\n",
              "\n",
              "       [['S', '2', '3', '4', '5', 'W', 'W'],\n",
              "        ['8', '9', '10', '11', '12', 'W', 'W'],\n",
              "        ['15', '16', '17', '18', '19', 'W', 'W'],\n",
              "        ['22', '23', '24', '25', '26', 'W', 'E']],\n",
              "\n",
              "       [['S', '2', '3', '4', '5', 'W', 'W'],\n",
              "        ['8', '9', '10', '11', '12', 'W', 'W'],\n",
              "        ['15', '16', '17', '18', '19', 'W', 'W'],\n",
              "        ['22', '23', '24', '25', '26', 'W', 'E']],\n",
              "\n",
              "       [['S', '2', '3', '4', '5', 'W', 'W'],\n",
              "        ['8', '9', '10', '11', '12', 'W', 'W'],\n",
              "        ['15', '16', '17', '18', '19', 'W', 'W'],\n",
              "        ['22', '23', '24', '25', '26', 'W', 'E']],\n",
              "\n",
              "       [['S', '2', '3', '4', '5', 'W', 'W'],\n",
              "        ['8', '9', '10', '11', '12', 'W', 'W'],\n",
              "        ['15', '16', '17', '18', '19', 'W', 'W'],\n",
              "        ['22', '23', '24', '25', '26', 'W', 'E']]], dtype='<U21')"
            ]
          },
          "metadata": {},
          "execution_count": 26
        }
      ]
    },
    {
      "cell_type": "code",
      "source": [
        "mes = [1, 4, 4, 5, 9, 10, 11, 11, 12]\n",
        "dia = [1, 15, 21, 1, 7, 12, 2, 15, 25]\n",
        "# dia//7\n",
        "# np.array(dia)//7\n",
        "# semana = np.array(dia)//7\n",
        "semana = (np.array(dia)-1)//7\n",
        "# (np.array(dia))%7 \n",
        "dia_semana = (np.array(dia)-1)%7\n",
        "# calendar[mes, semana, dia]\n",
        "mes = np.array(mes) - 1\n",
        "calendar[mes, semana, dia_semana] = 'F'\n",
        "calendar"
      ],
      "metadata": {
        "colab": {
          "base_uri": "https://localhost:8080/"
        },
        "id": "wkIQn21h8Tol",
        "outputId": "09324a08-ca1b-4e16-cbea-b50e6b6f547c"
      },
      "execution_count": null,
      "outputs": [
        {
          "output_type": "execute_result",
          "data": {
            "text/plain": [
              "array([[['F', '2', '3', '4', '5', 'W', 'W'],\n",
              "        ['8', '9', '10', '11', '12', 'W', 'W'],\n",
              "        ['15', '16', '17', '18', '19', 'W', 'W'],\n",
              "        ['22', '23', '24', '25', '26', 'W', 'E']],\n",
              "\n",
              "       [['S', '2', '3', '4', '5', 'W', 'W'],\n",
              "        ['8', '9', '10', '11', '12', 'W', 'W'],\n",
              "        ['15', '16', '17', '18', '19', 'W', 'W'],\n",
              "        ['22', '23', '24', '25', '26', 'W', 'E']],\n",
              "\n",
              "       [['S', '2', '3', '4', '5', 'W', 'W'],\n",
              "        ['8', '9', '10', '11', '12', 'W', 'W'],\n",
              "        ['15', '16', '17', '18', '19', 'W', 'W'],\n",
              "        ['22', '23', '24', '25', '26', 'W', 'E']],\n",
              "\n",
              "       [['S', '2', '3', '4', '5', 'W', 'W'],\n",
              "        ['8', '9', '10', '11', '12', 'W', 'W'],\n",
              "        ['F', '16', '17', '18', '19', 'W', 'F'],\n",
              "        ['22', '23', '24', '25', '26', 'W', 'E']],\n",
              "\n",
              "       [['F', '2', '3', '4', '5', 'W', 'W'],\n",
              "        ['8', '9', '10', '11', '12', 'W', 'W'],\n",
              "        ['15', '16', '17', '18', '19', 'W', 'W'],\n",
              "        ['22', '23', '24', '25', '26', 'W', 'E']],\n",
              "\n",
              "       [['S', '2', '3', '4', '5', 'W', 'W'],\n",
              "        ['8', '9', '10', '11', '12', 'W', 'W'],\n",
              "        ['15', '16', '17', '18', '19', 'W', 'W'],\n",
              "        ['22', '23', '24', '25', '26', 'W', 'E']],\n",
              "\n",
              "       [['S', '2', '3', '4', '5', 'W', 'W'],\n",
              "        ['8', '9', '10', '11', '12', 'W', 'W'],\n",
              "        ['15', '16', '17', '18', '19', 'W', 'W'],\n",
              "        ['22', '23', '24', '25', '26', 'W', 'E']],\n",
              "\n",
              "       [['S', '2', '3', '4', '5', 'W', 'W'],\n",
              "        ['8', '9', '10', '11', '12', 'W', 'W'],\n",
              "        ['15', '16', '17', '18', '19', 'W', 'W'],\n",
              "        ['22', '23', '24', '25', '26', 'W', 'E']],\n",
              "\n",
              "       [['S', '2', '3', '4', '5', 'W', 'F'],\n",
              "        ['8', '9', '10', '11', '12', 'W', 'W'],\n",
              "        ['15', '16', '17', '18', '19', 'W', 'W'],\n",
              "        ['22', '23', '24', '25', '26', 'W', 'E']],\n",
              "\n",
              "       [['S', '2', '3', '4', '5', 'W', 'W'],\n",
              "        ['8', '9', '10', '11', 'F', 'W', 'W'],\n",
              "        ['15', '16', '17', '18', '19', 'W', 'W'],\n",
              "        ['22', '23', '24', '25', '26', 'W', 'E']],\n",
              "\n",
              "       [['S', 'F', '3', '4', '5', 'W', 'W'],\n",
              "        ['8', '9', '10', '11', '12', 'W', 'W'],\n",
              "        ['F', '16', '17', '18', '19', 'W', 'W'],\n",
              "        ['22', '23', '24', '25', '26', 'W', 'E']],\n",
              "\n",
              "       [['S', '2', '3', '4', '5', 'W', 'W'],\n",
              "        ['8', '9', '10', '11', '12', 'W', 'W'],\n",
              "        ['15', '16', '17', '18', '19', 'W', 'W'],\n",
              "        ['22', '23', '24', 'F', '26', 'W', 'E']]], dtype='<U21')"
            ]
          },
          "metadata": {},
          "execution_count": 27
        }
      ]
    },
    {
      "cell_type": "code",
      "source": [
        "calendar[~np.isin(calendar, ['S', 'W', 'E', 'F'])] = 'D'\n",
        "calendar"
      ],
      "metadata": {
        "id": "SqEwfIqEimva",
        "outputId": "9d077e64-b57d-4eba-ec31-767c0509c47e",
        "colab": {
          "base_uri": "https://localhost:8080/"
        }
      },
      "execution_count": null,
      "outputs": [
        {
          "output_type": "execute_result",
          "data": {
            "text/plain": [
              "array([[['F', 'D', 'D', 'D', 'D', 'W', 'W'],\n",
              "        ['D', 'D', 'D', 'D', 'D', 'W', 'W'],\n",
              "        ['D', 'D', 'D', 'D', 'D', 'W', 'W'],\n",
              "        ['D', 'D', 'D', 'D', 'D', 'W', 'E']],\n",
              "\n",
              "       [['S', 'D', 'D', 'D', 'D', 'W', 'W'],\n",
              "        ['D', 'D', 'D', 'D', 'D', 'W', 'W'],\n",
              "        ['D', 'D', 'D', 'D', 'D', 'W', 'W'],\n",
              "        ['D', 'D', 'D', 'D', 'D', 'W', 'E']],\n",
              "\n",
              "       [['S', 'D', 'D', 'D', 'D', 'W', 'W'],\n",
              "        ['D', 'D', 'D', 'D', 'D', 'W', 'W'],\n",
              "        ['D', 'D', 'D', 'D', 'D', 'W', 'W'],\n",
              "        ['D', 'D', 'D', 'D', 'D', 'W', 'E']],\n",
              "\n",
              "       [['S', 'D', 'D', 'D', 'D', 'W', 'W'],\n",
              "        ['D', 'D', 'D', 'D', 'D', 'W', 'W'],\n",
              "        ['F', 'D', 'D', 'D', 'D', 'W', 'F'],\n",
              "        ['D', 'D', 'D', 'D', 'D', 'W', 'E']],\n",
              "\n",
              "       [['F', 'D', 'D', 'D', 'D', 'W', 'W'],\n",
              "        ['D', 'D', 'D', 'D', 'D', 'W', 'W'],\n",
              "        ['D', 'D', 'D', 'D', 'D', 'W', 'W'],\n",
              "        ['D', 'D', 'D', 'D', 'D', 'W', 'E']],\n",
              "\n",
              "       [['S', 'D', 'D', 'D', 'D', 'W', 'W'],\n",
              "        ['D', 'D', 'D', 'D', 'D', 'W', 'W'],\n",
              "        ['D', 'D', 'D', 'D', 'D', 'W', 'W'],\n",
              "        ['D', 'D', 'D', 'D', 'D', 'W', 'E']],\n",
              "\n",
              "       [['S', 'D', 'D', 'D', 'D', 'W', 'W'],\n",
              "        ['D', 'D', 'D', 'D', 'D', 'W', 'W'],\n",
              "        ['D', 'D', 'D', 'D', 'D', 'W', 'W'],\n",
              "        ['D', 'D', 'D', 'D', 'D', 'W', 'E']],\n",
              "\n",
              "       [['S', 'D', 'D', 'D', 'D', 'W', 'W'],\n",
              "        ['D', 'D', 'D', 'D', 'D', 'W', 'W'],\n",
              "        ['D', 'D', 'D', 'D', 'D', 'W', 'W'],\n",
              "        ['D', 'D', 'D', 'D', 'D', 'W', 'E']],\n",
              "\n",
              "       [['S', 'D', 'D', 'D', 'D', 'W', 'F'],\n",
              "        ['D', 'D', 'D', 'D', 'D', 'W', 'W'],\n",
              "        ['D', 'D', 'D', 'D', 'D', 'W', 'W'],\n",
              "        ['D', 'D', 'D', 'D', 'D', 'W', 'E']],\n",
              "\n",
              "       [['S', 'D', 'D', 'D', 'D', 'W', 'W'],\n",
              "        ['D', 'D', 'D', 'D', 'F', 'W', 'W'],\n",
              "        ['D', 'D', 'D', 'D', 'D', 'W', 'W'],\n",
              "        ['D', 'D', 'D', 'D', 'D', 'W', 'E']],\n",
              "\n",
              "       [['S', 'F', 'D', 'D', 'D', 'W', 'W'],\n",
              "        ['D', 'D', 'D', 'D', 'D', 'W', 'W'],\n",
              "        ['F', 'D', 'D', 'D', 'D', 'W', 'W'],\n",
              "        ['D', 'D', 'D', 'D', 'D', 'W', 'E']],\n",
              "\n",
              "       [['S', 'D', 'D', 'D', 'D', 'W', 'W'],\n",
              "        ['D', 'D', 'D', 'D', 'D', 'W', 'W'],\n",
              "        ['D', 'D', 'D', 'D', 'D', 'W', 'W'],\n",
              "        ['D', 'D', 'D', 'F', 'D', 'W', 'E']]], dtype='<U21')"
            ]
          },
          "metadata": {},
          "execution_count": 33
        }
      ]
    }
  ]
}